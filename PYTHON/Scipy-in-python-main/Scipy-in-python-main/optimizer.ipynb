{
 "cells": [
  {
   "cell_type": "code",
   "execution_count": 1,
   "metadata": {},
   "outputs": [
    {
     "name": "stdout",
     "output_type": "stream",
     "text": [
      "[-0.73908513]\n"
     ]
    }
   ],
   "source": [
    "#Optimizers in SciPy\n",
    "#Optimizers are a set of procedures defined in SciPy that either find the minimum value of a function, or the root of an equation.\n",
    "\n",
    "#Optimizing Functions\n",
    "#Essentially, all of the algorithms in Machine Learning are nothing more than a complex equation that needs to be minimized with the help of given data.\n",
    "\n",
    "#Roots of an Equation\n",
    "#NumPy is capable of finding roots for polynomials and linear equations, but it can not find roots for non linear equations, like this one:\n",
    "\n",
    "#x + cos(x)\n",
    "\n",
    "#For that you can use SciPy's optimze.root function.\n",
    "\n",
    "#This function takes two required arguments:\n",
    "\n",
    "#fun - a function representing an equation.\n",
    "#x0 - an initial guess for the root.\n",
    "#The function returns an object with information regarding the solution.\n",
    "#The actual solution is given under attribute x of the returned object:\n",
    "\n",
    "\n",
    "#Find root of the equation x + cos(x):\n",
    "\n",
    "from scipy.optimize import root\n",
    "from math import cos\n",
    "\n",
    "def eqn(x):\n",
    "  return x + cos(x)\n",
    "\n",
    "myroot = root(eqn, 0)\n",
    "\n",
    "print(myroot.x)\n"
   ]
  },
  {
   "cell_type": "code",
   "execution_count": 2,
   "metadata": {},
   "outputs": [
    {
     "name": "stdout",
     "output_type": "stream",
     "text": [
      "      fun: 1.75\n",
      " hess_inv: array([[0.50000001]])\n",
      "      jac: array([0.])\n",
      "  message: 'Optimization terminated successfully.'\n",
      "     nfev: 8\n",
      "      nit: 2\n",
      "     njev: 4\n",
      "   status: 0\n",
      "  success: True\n",
      "        x: array([-0.50000001])\n"
     ]
    }
   ],
   "source": [
    "#Minimizing a Function\n",
    "#A function, in this context, represents a curve, curves have high points and low points.\n",
    "\n",
    "#High points are called maxima.\n",
    "\n",
    "#Low points are called minima.\n",
    "\n",
    "#The highest point in the whole curve is called global maxima, whereas the rest of them are called local maxima.\n",
    "\n",
    "#The lowest point in whole curve is called global minima, whereas the rest of them are called local minima.\n",
    "\n",
    "#Finding Minima\n",
    "#We can use scipy.optimize.minimize() function to minimize the function.\n",
    "\n",
    "#The minimize() function takes the following arguments:\n",
    "\n",
    "#fun - a function representing an equation.\n",
    "\n",
    "#x0 - an initial guess for the root.\n",
    "\n",
    "#method - name of the method to use. Legal values:\n",
    "# '''CG','BFGS','Newton-CG','L-BFGS-B','TNC','COBYLA','SLSQP'''\n",
    "\n",
    "#callback - function called after each iteration of optimization.\n",
    "\n",
    "#options - a dictionary defining extra params:\n",
    "\n",
    "#{\n",
    " #    \"disp\": boolean - print detailed description\n",
    "  #   \"gtol\": number - the tolerance of the error\n",
    "  #}\n",
    "#Minimize the function x^2 + x + 2 with BFGS:\n",
    "\n",
    "from scipy.optimize import minimize\n",
    "\n",
    "def eqn(x):\n",
    "  return x**2 + x + 2\n",
    "\n",
    "mymin = minimize(eqn, 0, method='BFGS')\n",
    "\n",
    "print(mymin)"
   ]
  }
 ],
 "metadata": {
  "interpreter": {
   "hash": "6de040b7a3fe6123b28a468a4517853dec959e233f90630126f0c6418bf57ff1"
  },
  "kernelspec": {
   "display_name": "Python 3.9.7 64-bit ('base': conda)",
   "language": "python",
   "name": "python3"
  },
  "language_info": {
   "codemirror_mode": {
    "name": "ipython",
    "version": 3
   },
   "file_extension": ".py",
   "mimetype": "text/x-python",
   "name": "python",
   "nbconvert_exporter": "python",
   "pygments_lexer": "ipython3",
   "version": "3.9.7"
  },
  "orig_nbformat": 4
 },
 "nbformat": 4,
 "nbformat_minor": 2
}
