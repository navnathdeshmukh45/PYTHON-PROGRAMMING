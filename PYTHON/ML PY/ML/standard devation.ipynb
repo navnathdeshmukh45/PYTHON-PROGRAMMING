{
 "cells": [
  {
   "cell_type": "code",
   "execution_count": 1,
   "metadata": {},
   "outputs": [
    {
     "data": {
      "text/plain": [
       "37.85"
      ]
     },
     "execution_count": 1,
     "metadata": {},
     "output_type": "execute_result"
    }
   ],
   "source": [
    "#What is Standard Deviation?\n",
    "#Standard deviation is a number that describes how spread out the values are.\n",
    "\n",
    "#A low standard deviation means that most of the numbers are close to the mean (average) value.\n",
    "\n",
    "#A high standard deviation means that the values are spread out over a wider range.\n",
    "\n",
    "#Example: This time we have registered the speed of 7 cars:\n",
    "\n",
    "speed = [86,87,88,86,87,85,86]\n",
    "\n",
    "#The standard deviation is:\n",
    "\n",
    "0.9\n",
    "\n",
    "#Meaning that most of the values are within the range of 0.9 from the mean value, which is 86.4.\n",
    "\n",
    "#Let us do the same with a selection of numbers with a wider range:\n",
    "\n",
    "speed = [32,111,138,28,59,77,97]\n",
    "\n",
    "#The standard deviation is:\n",
    "\n",
    "37.85\n",
    "\n",
    "#Meaning that most of the values are within the range of 37.85 from the mean value, which is 77.4.\n",
    "\n",
    "#As you can see, a higher standard deviation indicates that the values are spread out over a wider range.\n",
    "\n",
    "#The NumPy module has a method to calculate the standard deviation:"
   ]
  },
  {
   "cell_type": "code",
   "execution_count": 2,
   "metadata": {},
   "outputs": [
    {
     "name": "stdout",
     "output_type": "stream",
     "text": [
      "0.9035079029052513\n"
     ]
    }
   ],
   "source": [
    "#Use the NumPy std() method to find the standard deviation:\n",
    "\n",
    "import numpy\n",
    "\n",
    "speed = [86,87,88,86,87,85,86]\n",
    "\n",
    "x = numpy.std(speed)\n",
    "\n",
    "print(x)"
   ]
  },
  {
   "cell_type": "code",
   "execution_count": 4,
   "metadata": {},
   "outputs": [
    {
     "name": "stdout",
     "output_type": "stream",
     "text": [
      "37.84501153334721\n"
     ]
    }
   ],
   "source": [
    "import numpy\n",
    "\n",
    "speed = [32,111,138,28,59,77,97]\n",
    "\n",
    "x = numpy.std(speed)\n",
    "\n",
    "print(x)"
   ]
  },
  {
   "cell_type": "code",
   "execution_count": 5,
   "metadata": {},
   "outputs": [
    {
     "name": "stdout",
     "output_type": "stream",
     "text": [
      "1432.2448979591834\n"
     ]
    }
   ],
   "source": [
    "#variances\n",
    "import numpy\n",
    "\n",
    "speed = [32,111,138,28,59,77,97]\n",
    "\n",
    "x = numpy.var(speed)\n",
    "\n",
    "print(x)"
   ]
  }
 ],
 "metadata": {
  "interpreter": {
   "hash": "6de040b7a3fe6123b28a468a4517853dec959e233f90630126f0c6418bf57ff1"
  },
  "kernelspec": {
   "display_name": "Python 3.9.7 64-bit ('base': conda)",
   "language": "python",
   "name": "python3"
  },
  "language_info": {
   "codemirror_mode": {
    "name": "ipython",
    "version": 3
   },
   "file_extension": ".py",
   "mimetype": "text/x-python",
   "name": "python",
   "nbconvert_exporter": "python",
   "pygments_lexer": "ipython3",
   "version": "3.9.7"
  },
  "orig_nbformat": 4
 },
 "nbformat": 4,
 "nbformat_minor": 2
}
